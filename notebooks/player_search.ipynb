{
 "cells": [
  {
   "cell_type": "markdown",
   "metadata": {},
   "source": [
    "# Player Search\n",
    "This notebook explores the use of these two endpoints in retrieving individual NBA player statstics:\n",
    "- https://v2.nba.api-sports.io/players\n",
    "- https://v2.nba.api-sports.io/players/statistics\n",
    "\n",
    "The code from this notebook will be used in V1 of the _Player Search_ feature."
   ]
  },
  {
   "cell_type": "code",
   "execution_count": 1,
   "metadata": {},
   "outputs": [],
   "source": [
    "from rel_bball_analytics import app\n",
    "\n",
    "import pandas as pd\n",
    "import requests"
   ]
  },
  {
   "cell_type": "code",
   "execution_count": 2,
   "metadata": {},
   "outputs": [],
   "source": [
    "base_url = app.config[\"SPORTS_API_URL\"]\n",
    "headers = {\"x-rapidapi-key\": app.config[\"SPORTS_API_KEY\"]}"
   ]
  },
  {
   "cell_type": "markdown",
   "metadata": {},
   "source": [
    "### Get Player Info from Name"
   ]
  },
  {
   "cell_type": "code",
   "execution_count": 3,
   "metadata": {},
   "outputs": [],
   "source": [
    "PLAYER_COLUMNS = [\n",
    "    \"id\",\n",
    "    \"firstname\",\n",
    "    \"lastname\",\n",
    "    \"birth_date\",\n",
    "    \"country\",\n",
    "    \"height_feet\",\n",
    "    \"height_inches\",\n",
    "    \"weight_pounds\",\n",
    "    \"jersey\",\n",
    "    \"is_active\",\n",
    "    \"position\",\n",
    "    \"start_year\",\n",
    "    \"pro_years\",\n",
    "    \"college\",\n",
    "]"
   ]
  },
  {
   "cell_type": "code",
   "execution_count": 4,
   "metadata": {},
   "outputs": [],
   "source": [
    "def get_raw_player_data(name):\n",
    "    url = f\"{base_url}players\"\n",
    "    params = {\"name\": name}\n",
    "    \n",
    "    response = requests.get(url, params=params, headers=headers)\n",
    "    return response.json()"
   ]
  },
  {
   "cell_type": "code",
   "execution_count": 5,
   "metadata": {},
   "outputs": [],
   "source": [
    "def filter_nba_players(players):\n",
    "    players[\"is_nba\"] = players[\"leagues\"].apply(lambda obj: \"standard\" in obj.keys())\n",
    "    return players.loc[players.is_nba]"
   ]
  },
  {
   "cell_type": "code",
   "execution_count": 6,
   "metadata": {},
   "outputs": [],
   "source": [
    "def clean_player_data(data):\n",
    "    data[\"birth_date\"] = data[\"birth\"].apply(lambda obj: obj.get(\"date\"))\n",
    "    data[\"country\"] = data[\"birth\"].apply(lambda obj: obj.get(\"country\"))\n",
    "    data[\"start_year\"] = data[\"nba\"].apply(lambda obj: obj.get(\"start\"))\n",
    "    data[\"pro_years\"] = data[\"nba\"].apply(lambda obj: obj.get(\"pro\"))\n",
    "    data[\"height_feet\"] = data[\"height\"].apply(lambda obj: obj.get(\"feets\"))\n",
    "    data[\"height_inches\"] = data[\"height\"].apply(lambda obj: obj.get(\"inches\"))\n",
    "    data[\"weight_pounds\"] = data[\"weight\"].apply(lambda obj: obj.get(\"pounds\"))\n",
    "    data[\"jersey\"] = data[\"leagues\"].apply(lambda obj: obj[\"standard\"].get(\"jersey\"))\n",
    "    data[\"is_active\"] = data[\"leagues\"].apply(lambda obj: obj[\"standard\"].get(\"active\"))\n",
    "    data[\"position\"] = data[\"leagues\"].apply(lambda obj: obj[\"standard\"].get(\"pos\"))\n",
    "\n",
    "    return data[PLAYER_COLUMNS]"
   ]
  },
  {
   "cell_type": "code",
   "execution_count": 7,
   "metadata": {},
   "outputs": [],
   "source": [
    "data = get_raw_player_data(name=\"curry\")\n",
    "if data[\"results\"] == 0:\n",
    "    print(\"No player matches\")\n",
    "\n",
    "df_results = pd.DataFrame(data[\"response\"])\n",
    "df_results = filter_nba_players(players=df_results)\n",
    "df_results = clean_player_data(data=df_results)"
   ]
  },
  {
   "cell_type": "code",
   "execution_count": 8,
   "metadata": {},
   "outputs": [
    {
     "data": {
      "text/html": [
       "<div>\n",
       "<style scoped>\n",
       "    .dataframe tbody tr th:only-of-type {\n",
       "        vertical-align: middle;\n",
       "    }\n",
       "\n",
       "    .dataframe tbody tr th {\n",
       "        vertical-align: top;\n",
       "    }\n",
       "\n",
       "    .dataframe thead th {\n",
       "        text-align: right;\n",
       "    }\n",
       "</style>\n",
       "<table border=\"1\" class=\"dataframe\">\n",
       "  <thead>\n",
       "    <tr style=\"text-align: right;\">\n",
       "      <th></th>\n",
       "      <th>id</th>\n",
       "      <th>firstname</th>\n",
       "      <th>lastname</th>\n",
       "      <th>birth_date</th>\n",
       "      <th>country</th>\n",
       "      <th>height_feet</th>\n",
       "      <th>height_inches</th>\n",
       "      <th>weight_pounds</th>\n",
       "      <th>jersey</th>\n",
       "      <th>is_active</th>\n",
       "      <th>position</th>\n",
       "      <th>start_year</th>\n",
       "      <th>pro_years</th>\n",
       "      <th>college</th>\n",
       "    </tr>\n",
       "  </thead>\n",
       "  <tbody>\n",
       "    <tr>\n",
       "      <th>0</th>\n",
       "      <td>123</td>\n",
       "      <td>Seth</td>\n",
       "      <td>Curry</td>\n",
       "      <td>1990-08-23</td>\n",
       "      <td>USA</td>\n",
       "      <td>6</td>\n",
       "      <td>2</td>\n",
       "      <td>185</td>\n",
       "      <td>30</td>\n",
       "      <td>True</td>\n",
       "      <td>G</td>\n",
       "      <td>2013</td>\n",
       "      <td>7</td>\n",
       "      <td>Duke</td>\n",
       "    </tr>\n",
       "    <tr>\n",
       "      <th>1</th>\n",
       "      <td>124</td>\n",
       "      <td>Stephen</td>\n",
       "      <td>Curry</td>\n",
       "      <td>1988-03-14</td>\n",
       "      <td>USA</td>\n",
       "      <td>6</td>\n",
       "      <td>2</td>\n",
       "      <td>185</td>\n",
       "      <td>30</td>\n",
       "      <td>True</td>\n",
       "      <td>G</td>\n",
       "      <td>2009</td>\n",
       "      <td>12</td>\n",
       "      <td>Davidson</td>\n",
       "    </tr>\n",
       "  </tbody>\n",
       "</table>\n",
       "</div>"
      ],
      "text/plain": [
       "    id firstname lastname  birth_date country height_feet height_inches  \\\n",
       "0  123      Seth    Curry  1990-08-23     USA           6             2   \n",
       "1  124   Stephen    Curry  1988-03-14     USA           6             2   \n",
       "\n",
       "  weight_pounds  jersey  is_active position  start_year  pro_years   college  \n",
       "0           185      30       True        G        2013          7      Duke  \n",
       "1           185      30       True        G        2009         12  Davidson  "
      ]
     },
     "execution_count": 8,
     "metadata": {},
     "output_type": "execute_result"
    }
   ],
   "source": [
    "df_results"
   ]
  },
  {
   "cell_type": "markdown",
   "metadata": {},
   "source": [
    "### Get Player Stats from ID"
   ]
  },
  {
   "cell_type": "code",
   "execution_count": null,
   "metadata": {},
   "outputs": [],
   "source": []
  }
 ],
 "metadata": {
  "kernelspec": {
   "display_name": "rel-bball-analytics-cevDMjBQ-py3.8",
   "language": "python",
   "name": "python3"
  },
  "language_info": {
   "codemirror_mode": {
    "name": "ipython",
    "version": 3
   },
   "file_extension": ".py",
   "mimetype": "text/x-python",
   "name": "python",
   "nbconvert_exporter": "python",
   "pygments_lexer": "ipython3",
   "version": "3.8.8"
  },
  "vscode": {
   "interpreter": {
    "hash": "26d55e85b324fd3c71674f1e81be088c2489408220ecfe625e1d74b5bb8115d7"
   }
  }
 },
 "nbformat": 4,
 "nbformat_minor": 4
}
