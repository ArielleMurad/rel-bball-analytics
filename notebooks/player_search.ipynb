{
 "cells": [
  {
   "cell_type": "markdown",
   "metadata": {},
   "source": [
    "# Player Search\n",
    "This notebook explores the use of these two endpoints in retrieving individual NBA player statstics:\n",
    "- https://v2.nba.api-sports.io/players\n",
    "- https://v2.nba.api-sports.io/players/statistics\n",
    "\n",
    "The code from this notebook will be used in V1 of the _Player Search_ feature."
   ]
  },
  {
   "cell_type": "code",
   "execution_count": 1,
   "metadata": {},
   "outputs": [],
   "source": [
    "from rel_bball_analytics import app\n",
    "\n",
    "import pandas as pd\n",
    "import requests"
   ]
  },
  {
   "cell_type": "code",
   "execution_count": 2,
   "metadata": {},
   "outputs": [],
   "source": [
    "base_url = app.config[\"SPORTS_API_URL\"]\n",
    "headers = {\"x-rapidapi-key\": app.config[\"SPORTS_API_KEY\"]}"
   ]
  },
  {
   "cell_type": "markdown",
   "metadata": {},
   "source": [
    "### Get Player Info from Name"
   ]
  },
  {
   "cell_type": "code",
   "execution_count": 3,
   "metadata": {},
   "outputs": [],
   "source": [
    "PLAYER_COLUMNS = [\n",
    "    \"id\",\n",
    "    \"firstname\",\n",
    "    \"lastname\",\n",
    "    \"birth_date\",\n",
    "    \"country\",\n",
    "    \"height_feet\",\n",
    "    \"height_inches\",\n",
    "    \"weight_pounds\",\n",
    "    \"jersey\",\n",
    "    \"is_active\",\n",
    "    \"start_year\",\n",
    "    \"pro_years\",\n",
    "    \"college\",\n",
    "]"
   ]
  },
  {
   "cell_type": "code",
   "execution_count": 4,
   "metadata": {},
   "outputs": [],
   "source": [
    "def get_raw_player_data(name):\n",
    "    url = f\"{base_url}players\"\n",
    "    params = {\"name\": name}\n",
    "    \n",
    "    response = requests.get(url, params=params, headers=headers)\n",
    "    return response.json()"
   ]
  },
  {
   "cell_type": "code",
   "execution_count": 5,
   "metadata": {},
   "outputs": [],
   "source": [
    "def filter_nba_players(players):\n",
    "    players[\"is_nba\"] = players[\"leagues\"].apply(lambda obj: \"standard\" in obj.keys())\n",
    "    return players.loc[players.is_nba]"
   ]
  },
  {
   "cell_type": "code",
   "execution_count": 6,
   "metadata": {},
   "outputs": [],
   "source": [
    "def clean_player_data(data):\n",
    "    data[\"birth_date\"] = data[\"birth\"].apply(lambda obj: obj.get(\"date\"))\n",
    "    data[\"country\"] = data[\"birth\"].apply(lambda obj: obj.get(\"country\"))\n",
    "    data[\"start_year\"] = data[\"nba\"].apply(lambda obj: obj.get(\"start\"))\n",
    "    data[\"pro_years\"] = data[\"nba\"].apply(lambda obj: obj.get(\"pro\"))\n",
    "    data[\"height_feet\"] = data[\"height\"].apply(lambda obj: obj.get(\"feets\"))\n",
    "    data[\"height_inches\"] = data[\"height\"].apply(lambda obj: obj.get(\"inches\"))\n",
    "    data[\"weight_pounds\"] = data[\"weight\"].apply(lambda obj: obj.get(\"pounds\"))\n",
    "    data[\"jersey\"] = data[\"leagues\"].apply(lambda obj: obj[\"standard\"].get(\"jersey\"))\n",
    "    data[\"is_active\"] = data[\"leagues\"].apply(lambda obj: obj[\"standard\"].get(\"active\"))\n",
    "    data[\"position\"] = data[\"leagues\"].apply(lambda obj: obj[\"standard\"].get(\"pos\"))\n",
    "\n",
    "    return data[PLAYER_COLUMNS]"
   ]
  },
  {
   "cell_type": "code",
   "execution_count": 7,
   "metadata": {},
   "outputs": [],
   "source": [
    "player_data = get_raw_player_data(name=\"curry\")\n",
    "if player_data[\"results\"] == 0:\n",
    "    print(\"No player matches\")\n",
    "\n",
    "df_players = pd.DataFrame(player_data[\"response\"])\n",
    "df_players = filter_nba_players(players=df_players)\n",
    "df_players = clean_player_data(data=df_players)"
   ]
  },
  {
   "cell_type": "code",
   "execution_count": 8,
   "metadata": {},
   "outputs": [
    {
     "data": {
      "text/html": [
       "<div>\n",
       "<style scoped>\n",
       "    .dataframe tbody tr th:only-of-type {\n",
       "        vertical-align: middle;\n",
       "    }\n",
       "\n",
       "    .dataframe tbody tr th {\n",
       "        vertical-align: top;\n",
       "    }\n",
       "\n",
       "    .dataframe thead th {\n",
       "        text-align: right;\n",
       "    }\n",
       "</style>\n",
       "<table border=\"1\" class=\"dataframe\">\n",
       "  <thead>\n",
       "    <tr style=\"text-align: right;\">\n",
       "      <th></th>\n",
       "      <th>id</th>\n",
       "      <th>firstname</th>\n",
       "      <th>lastname</th>\n",
       "      <th>birth_date</th>\n",
       "      <th>country</th>\n",
       "      <th>height_feet</th>\n",
       "      <th>height_inches</th>\n",
       "      <th>weight_pounds</th>\n",
       "      <th>jersey</th>\n",
       "      <th>is_active</th>\n",
       "      <th>start_year</th>\n",
       "      <th>pro_years</th>\n",
       "      <th>college</th>\n",
       "    </tr>\n",
       "  </thead>\n",
       "  <tbody>\n",
       "    <tr>\n",
       "      <th>0</th>\n",
       "      <td>123</td>\n",
       "      <td>Seth</td>\n",
       "      <td>Curry</td>\n",
       "      <td>1990-08-23</td>\n",
       "      <td>USA</td>\n",
       "      <td>6</td>\n",
       "      <td>2</td>\n",
       "      <td>185</td>\n",
       "      <td>30</td>\n",
       "      <td>True</td>\n",
       "      <td>2013</td>\n",
       "      <td>7</td>\n",
       "      <td>Duke</td>\n",
       "    </tr>\n",
       "    <tr>\n",
       "      <th>1</th>\n",
       "      <td>124</td>\n",
       "      <td>Stephen</td>\n",
       "      <td>Curry</td>\n",
       "      <td>1988-03-14</td>\n",
       "      <td>USA</td>\n",
       "      <td>6</td>\n",
       "      <td>2</td>\n",
       "      <td>185</td>\n",
       "      <td>30</td>\n",
       "      <td>True</td>\n",
       "      <td>2009</td>\n",
       "      <td>12</td>\n",
       "      <td>Davidson</td>\n",
       "    </tr>\n",
       "  </tbody>\n",
       "</table>\n",
       "</div>"
      ],
      "text/plain": [
       "    id firstname lastname  birth_date country height_feet height_inches  \\\n",
       "0  123      Seth    Curry  1990-08-23     USA           6             2   \n",
       "1  124   Stephen    Curry  1988-03-14     USA           6             2   \n",
       "\n",
       "  weight_pounds  jersey  is_active  start_year  pro_years   college  \n",
       "0           185      30       True        2013          7      Duke  \n",
       "1           185      30       True        2009         12  Davidson  "
      ]
     },
     "execution_count": 8,
     "metadata": {},
     "output_type": "execute_result"
    }
   ],
   "source": [
    "df_players"
   ]
  },
  {
   "cell_type": "markdown",
   "metadata": {},
   "source": [
    "### Get Player Stats from ID"
   ]
  },
  {
   "cell_type": "code",
   "execution_count": 9,
   "metadata": {},
   "outputs": [],
   "source": [
    "# Sample arguments to pass into main function\n",
    "player_id = 124\n",
    "season = 2021"
   ]
  },
  {
   "cell_type": "code",
   "execution_count": 10,
   "metadata": {},
   "outputs": [],
   "source": [
    "EXCLUDED_STATS_COLUMNS = [\n",
    "    \"player\",\n",
    "    \"team\",\n",
    "    \"game\",\n",
    "    \"comment\",\n",
    "]"
   ]
  },
  {
   "cell_type": "code",
   "execution_count": 11,
   "metadata": {},
   "outputs": [],
   "source": [
    "def get_raw_stats_data(player_id, season=2022):\n",
    "    url = f\"{base_url}players/statistics\"\n",
    "    params = {\"id\": player_id, \"season\": season}\n",
    "    \n",
    "    response = requests.get(url, params=params, headers=headers)\n",
    "    return response.json()"
   ]
  },
  {
   "cell_type": "code",
   "execution_count": 12,
   "metadata": {},
   "outputs": [],
   "source": [
    "def time_to_int(time):\n",
    "    if time is None or type(time) == int:\n",
    "        return time\n",
    "    \n",
    "    if \":\" in time:\n",
    "        mins, secs = time.split(\":\")\n",
    "        result = int(mins) + int(secs) / 60\n",
    "        return round(result, 2)\n",
    "\n",
    "    return round(int(time), 2)"
   ]
  },
  {
   "cell_type": "code",
   "execution_count": 13,
   "metadata": {},
   "outputs": [],
   "source": [
    "def clean_stats_data(data):\n",
    "    data[\"player_id\"] = data[\"player\"].apply(lambda obj: obj[\"id\"])\n",
    "    data[\"team_id\"] = data[\"team\"].apply(lambda obj: obj[\"id\"])\n",
    "    data[\"team_name\"] = data[\"team\"].apply(lambda obj: obj[\"name\"])\n",
    "    data[\"team_code\"] = data[\"team\"].apply(lambda obj: obj[\"code\"])\n",
    "    data[\"game_id\"] = data[\"game\"].apply(lambda obj: obj[\"id\"])\n",
    "    data[\"min\"] = data[\"min\"].apply(time_to_int)\n",
    "\n",
    "    return data.drop(EXCLUDED_STATS_COLUMNS, axis=1)"
   ]
  },
  {
   "cell_type": "code",
   "execution_count": 14,
   "metadata": {},
   "outputs": [],
   "source": [
    "stats_data = get_raw_stats_data(player_id=player_id, season=season)\n",
    "if stats_data[\"results\"] == 0:\n",
    "    print(f\"No stats available\")\n",
    "\n",
    "df_stats = pd.DataFrame(stats_data[\"response\"])\n",
    "df_stats = df_stats.dropna(subset=[\"points\", \"min\"])\n",
    "df_stats = clean_stats_data(data=df_stats)"
   ]
  },
  {
   "cell_type": "markdown",
   "metadata": {},
   "source": [
    "### Get Summary Stats (Per Game)"
   ]
  },
  {
   "cell_type": "code",
   "execution_count": 16,
   "metadata": {},
   "outputs": [],
   "source": [
    "STATS_COLUMNS = {\n",
    "    \"points\": \"points\",\n",
    "    \"min\": \"minutes_played\",\n",
    "    \"fgm\": \"field_goals\",\n",
    "    \"fga\": \"field_goal_attempts\",\n",
    "    \"fgp\": \"field_goal_percentage\",\n",
    "    \"tpm\": \"three_points_made\",\n",
    "    \"tpa\": \"three_point_attempts\",\n",
    "    \"tpp\": \"three_point_percentage\",\n",
    "    \"ftm\": \"free_throws\",\n",
    "    \"fta\": \"free_throw_attempts\",\n",
    "    \"ftp\": \"free_throw_percentage\",\n",
    "    \"offReb\": \"offensive_rebounds\",\n",
    "    \"defReb\": \"defensive_rebounds\",\n",
    "    \"totReb\": \"total_rebounds\",\n",
    "    \"assists\": \"assists\",\n",
    "    \"steals\": \"steals\",\n",
    "    \"blocks\": \"blocks\",\n",
    "    \"turnovers\": \"turnovers\",\n",
    "    \"pFouls\": \"personal_fouls\",\n",
    "    \"plusMinus\": \"plus_minus\",\n",
    "}"
   ]
  },
  {
   "cell_type": "code",
   "execution_count": 17,
   "metadata": {},
   "outputs": [],
   "source": [
    "def get_summary_stats(data):\n",
    "    stats_data = data[STATS_COLUMNS.keys()].rename(columns=STATS_COLUMNS)\n",
    "    return stats_data.mean(axis=0, numeric_only=True) "
   ]
  },
  {
   "cell_type": "code",
   "execution_count": 18,
   "metadata": {},
   "outputs": [],
   "source": [
    "summary_stats = {\n",
    "    \"id\": player_id,\n",
    "    \"season\": season,\n",
    "    \"team_id\": df_stats[\"team_id\"].mode()[0],\n",
    "    \"team\": df_stats[\"team_code\"].mode()[0],\n",
    "    \"position\": df_stats[\"pos\"].mode()[0],\n",
    "    \"games_played\": len(df_stats),\n",
    "    **get_summary_stats(data=df_stats)\n",
    "}"
   ]
  },
  {
   "cell_type": "code",
   "execution_count": 19,
   "metadata": {},
   "outputs": [
    {
     "data": {
      "text/plain": [
       "{'id': 124,\n",
       " 'season': 2021,\n",
       " 'team_id': 11,\n",
       " 'team': 'GSW',\n",
       " 'position': 'PG',\n",
       " 'games_played': 92,\n",
       " 'points': 25.869565217391305,\n",
       " 'minutes_played': 33.71423913043478,\n",
       " 'field_goals': 8.565217391304348,\n",
       " 'field_goal_attempts': 19.141304347826086,\n",
       " 'three_points_made': 4.445652173913044,\n",
       " 'three_point_attempts': 11.391304347826088,\n",
       " 'free_throws': 4.293478260869565,\n",
       " 'free_throw_attempts': 4.815217391304348,\n",
       " 'offensive_rebounds': 0.5,\n",
       " 'defensive_rebounds': 4.641304347826087,\n",
       " 'total_rebounds': 5.141304347826087,\n",
       " 'assists': 5.923913043478261,\n",
       " 'steals': 1.358695652173913,\n",
       " 'blocks': 0.358695652173913,\n",
       " 'turnovers': 3.0434782608695654,\n",
       " 'personal_fouls': 2.097826086956522}"
      ]
     },
     "execution_count": 19,
     "metadata": {},
     "output_type": "execute_result"
    }
   ],
   "source": [
    "summary_stats"
   ]
  },
  {
   "cell_type": "code",
   "execution_count": null,
   "metadata": {},
   "outputs": [],
   "source": []
  }
 ],
 "metadata": {
  "kernelspec": {
   "display_name": "rel-bball-analytics-cevDMjBQ-py3.8",
   "language": "python",
   "name": "python3"
  },
  "language_info": {
   "codemirror_mode": {
    "name": "ipython",
    "version": 3
   },
   "file_extension": ".py",
   "mimetype": "text/x-python",
   "name": "python",
   "nbconvert_exporter": "python",
   "pygments_lexer": "ipython3",
   "version": "3.8.8"
  },
  "vscode": {
   "interpreter": {
    "hash": "26d55e85b324fd3c71674f1e81be088c2489408220ecfe625e1d74b5bb8115d7"
   }
  }
 },
 "nbformat": 4,
 "nbformat_minor": 4
}
