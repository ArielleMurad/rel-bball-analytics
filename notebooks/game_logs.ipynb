{
 "cells": [
  {
   "attachments": {},
   "cell_type": "markdown",
   "metadata": {},
   "source": [
    "# Game Logs\n",
    "This notebook explores the use of these two endpoints in retrieving detailed game stats for a given player:\n",
    "- https://v2.nba.api-sports.io/games\n",
    "- https://v2.nba.api-sports.io/players/statistics\n",
    "\n",
    "The code from this notebook will be used in V1 of the _Player Search_ feature."
   ]
  },
  {
   "cell_type": "code",
   "execution_count": 1,
   "metadata": {},
   "outputs": [],
   "source": [
    "from rel_bball_analytics.players.utils import get_data_from_api\n",
    "\n",
    "from datetime import datetime\n",
    "import pandas as pd"
   ]
  },
  {
   "cell_type": "code",
   "execution_count": 2,
   "metadata": {},
   "outputs": [],
   "source": [
    "PLAYER_ID = 124\n",
    "TEAM_ID = 11\n",
    "SEASON = 2022"
   ]
  },
  {
   "attachments": {},
   "cell_type": "markdown",
   "metadata": {},
   "source": [
    "### Get Game Info from Team and Season"
   ]
  },
  {
   "cell_type": "code",
   "execution_count": 3,
   "metadata": {},
   "outputs": [],
   "source": [
    "GAME_COLUMNS = [\n",
    "    \"id\",\n",
    "    \"season\",\n",
    "    \"date\",\n",
    "    \"winner\",\n",
    "    \"difference\",\n",
    "    \"home\",\n",
    "    \"away\",\n",
    "    \"home_score\",\n",
    "    \"away_score\",\n",
    "]"
   ]
  },
  {
   "cell_type": "code",
   "execution_count": 4,
   "metadata": {},
   "outputs": [],
   "source": [
    "def parse_date(date):\n",
    "    return datetime.strptime(date, \"%Y-%m-%dT%H:%M:%S.000Z\")"
   ]
  },
  {
   "cell_type": "code",
   "execution_count": 5,
   "metadata": {},
   "outputs": [],
   "source": [
    "def get_winner(row):\n",
    "    return row[\"home\"] if row[\"home_score\"] > row[\"away_score\"] else row[\"away\"]"
   ]
  },
  {
   "cell_type": "code",
   "execution_count": 6,
   "metadata": {},
   "outputs": [],
   "source": [
    "def filter_finished_games(games):\n",
    "    games[\"is_finished\"] = games[\"status\"].apply(lambda obj: obj[\"long\"] == \"Finished\")\n",
    "    return games.loc[games.is_finished]"
   ]
  },
  {
   "cell_type": "code",
   "execution_count": 7,
   "metadata": {},
   "outputs": [],
   "source": [
    "def clean_game_data(data):\n",
    "    data[\"date\"] = data[\"date\"].apply(lambda obj: parse_date(obj.get(\"start\")))\n",
    "    data[\"home\"] = data[\"teams\"].apply(lambda obj: obj[\"home\"].get(\"code\"))\n",
    "    data[\"away\"] = data[\"teams\"].apply(lambda obj: obj[\"visitors\"].get(\"code\"))\n",
    "    data[\"home_score\"] = data[\"scores\"].apply(lambda obj: obj[\"home\"].get(\"points\"))\n",
    "    data[\"away_score\"] = data[\"scores\"].apply(lambda obj: obj[\"visitors\"].get(\"points\"))\n",
    "    data[\"difference\"] = abs(data[\"home_score\"] - data[\"away_score\"])\n",
    "    data[\"winner\"] = data.apply(get_winner, axis=1)\n",
    "\n",
    "    return data[GAME_COLUMNS]"
   ]
  },
  {
   "cell_type": "code",
   "execution_count": 8,
   "metadata": {},
   "outputs": [],
   "source": [
    "params = {\"team\": TEAM_ID, \"season\": SEASON, \"league\": \"Standard\"}\n",
    "game_data = get_data_from_api(endpoint=\"games\", params=params)\n",
    "\n",
    "if game_data[\"results\"] == 0:\n",
    "    print(\"No results found\")\n",
    "\n",
    "df_games = pd.DataFrame(game_data[\"response\"])\n",
    "df_games = filter_finished_games(games=df_games)\n",
    "df_games = clean_game_data(data=df_games)"
   ]
  },
  {
   "cell_type": "code",
   "execution_count": 9,
   "metadata": {},
   "outputs": [
    {
     "data": {
      "text/html": [
       "<div>\n",
       "<style scoped>\n",
       "    .dataframe tbody tr th:only-of-type {\n",
       "        vertical-align: middle;\n",
       "    }\n",
       "\n",
       "    .dataframe tbody tr th {\n",
       "        vertical-align: top;\n",
       "    }\n",
       "\n",
       "    .dataframe thead th {\n",
       "        text-align: right;\n",
       "    }\n",
       "</style>\n",
       "<table border=\"1\" class=\"dataframe\">\n",
       "  <thead>\n",
       "    <tr style=\"text-align: right;\">\n",
       "      <th></th>\n",
       "      <th>id</th>\n",
       "      <th>season</th>\n",
       "      <th>date</th>\n",
       "      <th>winner</th>\n",
       "      <th>difference</th>\n",
       "      <th>home</th>\n",
       "      <th>away</th>\n",
       "      <th>home_score</th>\n",
       "      <th>away_score</th>\n",
       "    </tr>\n",
       "  </thead>\n",
       "  <tbody>\n",
       "    <tr>\n",
       "      <th>0</th>\n",
       "      <td>10980</td>\n",
       "      <td>2022</td>\n",
       "      <td>2022-09-30 10:00:00</td>\n",
       "      <td>GSW</td>\n",
       "      <td>9</td>\n",
       "      <td>WAS</td>\n",
       "      <td>GSW</td>\n",
       "      <td>87</td>\n",
       "      <td>96</td>\n",
       "    </tr>\n",
       "    <tr>\n",
       "      <th>1</th>\n",
       "      <td>10983</td>\n",
       "      <td>2022</td>\n",
       "      <td>2022-10-02 05:00:00</td>\n",
       "      <td>GSW</td>\n",
       "      <td>9</td>\n",
       "      <td>GSW</td>\n",
       "      <td>WAS</td>\n",
       "      <td>104</td>\n",
       "      <td>95</td>\n",
       "    </tr>\n",
       "    <tr>\n",
       "      <th>2</th>\n",
       "      <td>11019</td>\n",
       "      <td>2022</td>\n",
       "      <td>2022-10-10 00:30:00</td>\n",
       "      <td>LAL</td>\n",
       "      <td>3</td>\n",
       "      <td>GSW</td>\n",
       "      <td>LAL</td>\n",
       "      <td>121</td>\n",
       "      <td>124</td>\n",
       "    </tr>\n",
       "    <tr>\n",
       "      <th>3</th>\n",
       "      <td>11030</td>\n",
       "      <td>2022</td>\n",
       "      <td>2022-10-12 02:00:00</td>\n",
       "      <td>GSW</td>\n",
       "      <td>33</td>\n",
       "      <td>GSW</td>\n",
       "      <td>POR</td>\n",
       "      <td>131</td>\n",
       "      <td>98</td>\n",
       "    </tr>\n",
       "    <tr>\n",
       "      <th>4</th>\n",
       "      <td>11048</td>\n",
       "      <td>2022</td>\n",
       "      <td>2022-10-15 02:00:00</td>\n",
       "      <td>DEN</td>\n",
       "      <td>7</td>\n",
       "      <td>GSW</td>\n",
       "      <td>DEN</td>\n",
       "      <td>112</td>\n",
       "      <td>119</td>\n",
       "    </tr>\n",
       "  </tbody>\n",
       "</table>\n",
       "</div>"
      ],
      "text/plain": [
       "      id  season                date winner  difference home away  home_score  \\\n",
       "0  10980    2022 2022-09-30 10:00:00    GSW           9  WAS  GSW          87   \n",
       "1  10983    2022 2022-10-02 05:00:00    GSW           9  GSW  WAS         104   \n",
       "2  11019    2022 2022-10-10 00:30:00    LAL           3  GSW  LAL         121   \n",
       "3  11030    2022 2022-10-12 02:00:00    GSW          33  GSW  POR         131   \n",
       "4  11048    2022 2022-10-15 02:00:00    DEN           7  GSW  DEN         112   \n",
       "\n",
       "   away_score  \n",
       "0          96  \n",
       "1          95  \n",
       "2         124  \n",
       "3          98  \n",
       "4         119  "
      ]
     },
     "execution_count": 9,
     "metadata": {},
     "output_type": "execute_result"
    }
   ],
   "source": [
    "df_games.head()"
   ]
  },
  {
   "cell_type": "code",
   "execution_count": null,
   "metadata": {},
   "outputs": [],
   "source": []
  }
 ],
 "metadata": {
  "kernelspec": {
   "display_name": "rel-bball-analytics-cevDMjBQ-py3.8",
   "language": "python",
   "name": "python3"
  },
  "language_info": {
   "codemirror_mode": {
    "name": "ipython",
    "version": 3
   },
   "file_extension": ".py",
   "mimetype": "text/x-python",
   "name": "python",
   "nbconvert_exporter": "python",
   "pygments_lexer": "ipython3",
   "version": "3.8.8"
  },
  "orig_nbformat": 4
 },
 "nbformat": 4,
 "nbformat_minor": 2
}
